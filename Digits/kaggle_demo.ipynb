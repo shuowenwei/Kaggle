{
 "cells": [
  {
   "cell_type": "markdown",
   "metadata": {},
   "source": [
    "# 手写数字识别\n",
    "https://www.kaggle.com/c/digit-recognizer"
   ]
  },
  {
   "cell_type": "code",
   "execution_count": null,
   "metadata": {
    "collapsed": false
   },
   "outputs": [],
   "source": [
    "import pandas as pd # Dataframe\n",
    "from sklearn.ensemble import RandomForestClassifier # Classification algorithm - random forest\n",
    "from sklearn import metrics, grid_search\n",
    "from sklearn.metrics import classification_report\n",
    "from sklearn.cross_validation import train_test_split\n",
    "import numpy as np\n",
    "import math\n",
    "import random as rd\n",
    "import pylab as pl\n",
    "import matplotlib.pyplot as plt\n",
    "%matplotlib inline\n"
   ]
  },
  {
   "cell_type": "markdown",
   "metadata": {},
   "source": [
    "# 1. Load Data"
   ]
  },
  {
   "cell_type": "code",
   "execution_count": null,
   "metadata": {
    "collapsed": false
   },
   "outputs": [],
   "source": [
    "train_df = pd.read_csv('train.csv')\n",
    "test_df = pd.read_csv('test.csv')\n",
    "\n",
    "train_data = train_df.drop('label',axis=1).values\n",
    "train_labels = train_df['label'].values\n",
    "test_data = test_df.values\n",
    "\n",
    "print (\"Loading finished.\")\n",
    "print (\"Train size:\", train_df.shape)\n",
    "print (\"Test size:\", test_df.shape)"
   ]
  },
  {
   "cell_type": "markdown",
   "metadata": {},
   "source": [
    "# 2. 训练数据集含有42000条记录，每条记录代表了一个手写数字，每一个数字含有784个特征，代表了一个28*28的二维图像。训练集每条记录的第一个数字（label）代表了这个数字的真实数值，通常称为标签。测试数据集由28000个数字组成，没有标签值：这正是我们需要预测的。"
   ]
  },
  {
   "cell_type": "code",
   "execution_count": null,
   "metadata": {
    "collapsed": false
   },
   "outputs": [],
   "source": [
    "train_df.head(5)"
   ]
  },
  {
   "cell_type": "code",
   "execution_count": null,
   "metadata": {
    "collapsed": false
   },
   "outputs": [],
   "source": [
    "test_df.head(5)"
   ]
  },
  {
   "cell_type": "markdown",
   "metadata": {},
   "source": [
    "# 3. 可视化数字："
   ]
  },
  {
   "cell_type": "code",
   "execution_count": null,
   "metadata": {
    "collapsed": false
   },
   "outputs": [],
   "source": [
    "train_images = []\n",
    "\n",
    "for image in train_data:\n",
    "    train_images.append(image.reshape(28,28))\n",
    "\n",
    "train_images = np.array(train_images)\n",
    "\n",
    "plt.figure(figsize=(20,10), dpi=600)\n",
    "for i in range(10):\n",
    "    plt.subplot(1,10,(i+1))\n",
    "    print train_labels[i],\n",
    "    pl.imshow(train_images[i],cmap=pl.cm.gray_r)\n",
    "pl.show()"
   ]
  },
  {
   "cell_type": "markdown",
   "metadata": {},
   "source": [
    "# 4.训练"
   ]
  },
  {
   "cell_type": "code",
   "execution_count": null,
   "metadata": {
    "collapsed": false
   },
   "outputs": [],
   "source": [
    "clf = RandomForestClassifier()\n",
    "clf.fit(train_data,train_labels)"
   ]
  },
  {
   "cell_type": "markdown",
   "metadata": {},
   "source": [
    "# 5.预测"
   ]
  },
  {
   "cell_type": "code",
   "execution_count": null,
   "metadata": {
    "collapsed": false
   },
   "outputs": [],
   "source": [
    "predictions = clf.predict(test_data)\n",
    "print (\"Predicting finished.\")"
   ]
  },
  {
   "cell_type": "markdown",
   "metadata": {},
   "source": [
    "# 6.生成提交文件"
   ]
  },
  {
   "cell_type": "code",
   "execution_count": null,
   "metadata": {
    "collapsed": false
   },
   "outputs": [],
   "source": [
    "submission = pd.DataFrame({\"ImageId\": np.arange(1,28001),\"Label\": predictions})\n",
    "submission.to_csv('./submission.csv',index=False)  \n",
    "print (\"Submission created.\")"
   ]
  },
  {
   "cell_type": "markdown",
   "metadata": {},
   "source": [
    "# 7.训练集和验证集\n",
    "* 现实应用中，纯粹的“训练->预测”模式过于简单，无法验证模型的效果\n",
    "* 最常见的方式是把训练集拆分成两部分，一部分用于训练，另一部分用于验证"
   ]
  },
  {
   "cell_type": "code",
   "execution_count": null,
   "metadata": {
    "collapsed": true
   },
   "outputs": [],
   "source": [
    "_train_data = train_data[:32000]\n",
    "_train_labels = train_labels[:32000]\n",
    "_val_data = train_data[32000:]\n",
    "_val_labels = train_labels[32000:]"
   ]
  },
  {
   "cell_type": "markdown",
   "metadata": {},
   "source": [
    "# 8.训练-预测-验证\n",
    "* 通过对验证集标签及预测结果的比较来判断模型的效果"
   ]
  },
  {
   "cell_type": "code",
   "execution_count": null,
   "metadata": {
    "collapsed": false,
    "scrolled": true
   },
   "outputs": [],
   "source": [
    "clf.fit(_train_data,_train_labels)\n",
    "_val_predictions = clf.predict(_val_data)\n",
    "print(\"Classification report for classifier %s:\\n%s\\n\" % (clf, metrics.classification_report(_val_predictions, _val_labels)))\n",
    "print(\"Confusion matrix:\\n%s\" % metrics.confusion_matrix(_val_predictions, _val_labels))\n",
    "print(\"Accuracy score: %f\" % metrics.accuracy_score(_val_predictions, _val_labels))"
   ]
  },
  {
   "cell_type": "markdown",
   "metadata": {},
   "source": [
    "# 9.可视化预测错的数字"
   ]
  },
  {
   "cell_type": "code",
   "execution_count": null,
   "metadata": {
    "collapsed": false
   },
   "outputs": [],
   "source": [
    "wrong_images = []\n",
    "wrong_labels = []\n",
    "wrong_predictions = []\n",
    "\n",
    "for (image, label, prediction) in zip(_val_data, _val_labels, _val_predictions):\n",
    "    if label<>prediction:\n",
    "        wrong_images.append(image.reshape(28,28))\n",
    "        wrong_labels.append(label)\n",
    "        wrong_predictions.append(prediction)\n",
    "\n",
    "wrong_images = np.array(wrong_images)\n",
    "\n",
    "plt.figure(figsize=(20,10), dpi=600)\n",
    "for i in range(10):\n",
    "    plt.subplot(1,10,(i+1))\n",
    "    print (\"Label:\", wrong_labels[i], \"Prediction:\", wrong_predictions[i])\n",
    "    pl.imshow(wrong_images[i],cmap=pl.cm.gray_r)\n",
    "pl.show()"
   ]
  },
  {
   "cell_type": "markdown",
   "metadata": {},
   "source": [
    "# 10.参数调优\n",
    "* 一个机器学习算法可能有很多个参数,如何对参数进行调优以获得最佳效果是机器学习最常见的挑战之一\n",
    "* 最常见的方法是网格搜索(grid search):对所有可能出现的参数值的排列组合进行验证\n",
    "* 效率很低.更重要的是对模型的深入理解"
   ]
  },
  {
   "cell_type": "code",
   "execution_count": null,
   "metadata": {
    "collapsed": false
   },
   "outputs": [],
   "source": [
    "clf?"
   ]
  },
  {
   "cell_type": "code",
   "execution_count": null,
   "metadata": {
    "collapsed": false
   },
   "outputs": [],
   "source": [
    "def search_model(train_x, train_y, est, param_grid, n_jobs, cv):\n",
    "    model = grid_search.GridSearchCV(estimator  = est,\n",
    "                                     param_grid = param_grid,\n",
    "#                                      scoring    = 'roc_auc',\n",
    "                                     verbose    = 10,\n",
    "                                     n_jobs  = n_jobs,\n",
    "                                     iid        = True,\n",
    "                                     refit    = False,\n",
    "                                     cv      = cv)\n",
    "    # Fit Grid Search Model\n",
    "    model.fit(train_x, train_y)\n",
    "    print(\"Best score: %0.3f\" % model.best_score_)\n",
    "    print(\"Best parameters set:\", model.best_params_)\n",
    "    return model.best_score_, model.best_params_\n",
    "\n",
    "param_grid = {'n_estimators': [10,50,100]\n",
    "                , 'criterion': ['gini','entropy']\n",
    "              }\n",
    "(best_score, best_params) = search_model(_val_data\n",
    "                                         , _val_labels\n",
    "                                         , RandomForestClassifier()\n",
    "                                         , param_grid\n",
    "                                         , n_jobs=1\n",
    "                                         , cv=3)   \n",
    "\n",
    "print best_score, best_params"
   ]
  },
  {
   "cell_type": "markdown",
   "metadata": {
    "collapsed": true
   },
   "source": [
    "# 11. 用调优后的参数重新训练并预测"
   ]
  },
  {
   "cell_type": "code",
   "execution_count": null,
   "metadata": {
    "collapsed": false
   },
   "outputs": [],
   "source": [
    "clf = RandomForestClassifier(n_estimators=100,criterion='gini')\n",
    "clf.fit(train_data,train_labels)\n",
    "predictions = clf.predict(test_data)\n",
    "submission = pd.DataFrame({\"ImageId\": np.arange(1,28001),\"Label\": predictions})\n",
    "submission.to_csv('submission_tuned.csv',index=False) \n",
    "print (\"Finished.\")"
   ]
  }
 ],
 "metadata": {
  "kernelspec": {
   "display_name": "Python 2",
   "language": "python",
   "name": "python2"
  },
  "language_info": {
   "codemirror_mode": {
    "name": "ipython",
    "version": 2
   },
   "file_extension": ".py",
   "mimetype": "text/x-python",
   "name": "python",
   "nbconvert_exporter": "python",
   "pygments_lexer": "ipython2",
   "version": "2.7.10"
  }
 },
 "nbformat": 4,
 "nbformat_minor": 0
}
